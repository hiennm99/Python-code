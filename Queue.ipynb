{
 "cells": [
  {
   "cell_type": "code",
   "execution_count": 5,
   "metadata": {},
   "outputs": [],
   "source": [
    "# Khai bao Class Queue\n",
    "class Queue ():\n",
    "\n",
    "    # Khoi tao 1 Queue\n",
    "    def __init__(self):\n",
    "        self.q = []\n",
    "\n",
    "    # Kiem tra Queue rong?\n",
    "    def Is_Empty(self):\n",
    "        if (len(self.q)==0):\n",
    "            return True \n",
    "        else: \n",
    "            return False\n",
    "\n",
    "    # In Queue\n",
    "    def PrintQueue(self):\n",
    "        return self.q\n",
    "\n",
    "    # Them 1 phan tu vao cuoi \n",
    "    def Enqueue(self,key):\n",
    "        self.q.append(key)\n",
    "        print (key, ' is added successfully!')\n",
    "\n",
    "    # Xoa phan tu o dau\n",
    "    def Dequeue(self):\n",
    "        if (self.Is_Empty()):\n",
    "            print ('Queue is empty')\n",
    "        else:\n",
    "            self.q.remove(self.q[0])\n",
    "            print('Remove item succesfully')\n",
    "    \n",
    "    # Lay ra 1 phan tu o dau\n",
    "    def Front(self):\n",
    "        return print(' First item:', self.q[0])\n",
    "\n",
    "    # Lay ra 1 phan tu o cuoi\n",
    "    def Rear(self):\n",
    "        return print(' Last item:', self.q[-1])\n"
   ]
  },
  {
   "cell_type": "code",
   "execution_count": 13,
   "metadata": {},
   "outputs": [
    {
     "name": "stdout",
     "output_type": "stream",
     "text": [
      "1  is added successfully!\n",
      "2  is added successfully!\n",
      "3  is added successfully!\n"
     ]
    }
   ],
   "source": [
    "Q=Queue()\n",
    "Q.Enqueue(1)\n",
    "Q.Enqueue(2)\n",
    "Q.Enqueue(3)"
   ]
  },
  {
   "cell_type": "code",
   "execution_count": 14,
   "metadata": {},
   "outputs": [
    {
     "data": {
      "text/plain": [
       "[1, 2, 3]"
      ]
     },
     "execution_count": 14,
     "metadata": {},
     "output_type": "execute_result"
    }
   ],
   "source": [
    "Q.PrintQueue()"
   ]
  },
  {
   "cell_type": "code",
   "execution_count": 18,
   "metadata": {},
   "outputs": [
    {
     "name": "stdout",
     "output_type": "stream",
     "text": [
      "Remove succesfully\n"
     ]
    },
    {
     "data": {
      "text/plain": [
       "[3]"
      ]
     },
     "execution_count": 18,
     "metadata": {},
     "output_type": "execute_result"
    }
   ],
   "source": [
    "Q.Dequeue()\n",
    "Q.PrintQueue()"
   ]
  },
  {
   "cell_type": "code",
   "execution_count": 19,
   "metadata": {},
   "outputs": [
    {
     "name": "stdout",
     "output_type": "stream",
     "text": [
      " First item: 3\n"
     ]
    }
   ],
   "source": [
    "Q.\n",
    "Q.Front()"
   ]
  },
  {
   "cell_type": "code",
   "execution_count": 52,
   "metadata": {},
   "outputs": [
    {
     "data": {
      "text/plain": [
       "10000000000"
      ]
     },
     "execution_count": 52,
     "metadata": {},
     "output_type": "execute_result"
    }
   ],
   "source": [
    "def somu(x):\n",
    "    s=1\n",
    "    for i in range (0,x):\n",
    "       s=s*10\n",
    "    return s\n",
    "\n",
    "somu(10)"
   ]
  },
  {
   "cell_type": "code",
   "execution_count": 55,
   "metadata": {},
   "outputs": [
    {
     "name": "stdout",
     "output_type": "stream",
     "text": [
      "[1, 2, 3]\n",
      "123\n"
     ]
    }
   ],
   "source": [
    "\n",
    "n = int(input())\n",
    "a=[x for x in range(1,n+1)]\n",
    "print(a)\n",
    "\n",
    "temp=''.join(str(x) for x in a)\n",
    "print(temp)"
   ]
  }
 ],
 "metadata": {
  "kernelspec": {
   "display_name": "Python 3.10.7 64-bit",
   "language": "python",
   "name": "python3"
  },
  "language_info": {
   "codemirror_mode": {
    "name": "ipython",
    "version": 3
   },
   "file_extension": ".py",
   "mimetype": "text/x-python",
   "name": "python",
   "nbconvert_exporter": "python",
   "pygments_lexer": "ipython3",
   "version": "3.10.7"
  },
  "orig_nbformat": 4,
  "vscode": {
   "interpreter": {
    "hash": "31671a60cee805c34c73116577b485118ff3a75c458d3004d49632c19702ac60"
   }
  }
 },
 "nbformat": 4,
 "nbformat_minor": 2
}
