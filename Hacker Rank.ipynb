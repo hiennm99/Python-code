{
 "cells": [
  {
   "cell_type": "code",
   "execution_count": null,
   "metadata": {},
   "outputs": [],
   "source": [
    "def Find_Duplicate(x):\n",
    "    "
   ]
  },
  {
   "cell_type": "code",
   "execution_count": 100,
   "metadata": {},
   "outputs": [],
   "source": [
    "#Nested List\n",
    "\n",
    "if __name__ == '__main__':\n",
    "    students=[]\n",
    "    for _ in range(int(input())):\n",
    "        a=[]\n",
    "        name = input()\n",
    "        score = float(input())\n",
    "        a.append(name)\n",
    "        a.append(score)\n",
    "        students.append(a)\n",
    "\n",
    "# Sort by key[1]\n",
    "students=sorted(students,key=lambda x:x[1])\n",
    "mini=students[0]\n",
    "for i in range(1,len(students)):\n",
    "    if students[i][1]==mini[1]:\n",
    "        i+=1\n",
    "    else:\n",
    "        x=i\n",
    "        b=[]\n",
    "        b.append(students[x][0])\n",
    "        for j in range(x+1,len(students)):\n",
    "            if (students[j][1]==students[x][1]):\n",
    "                b.append(students[j][0])\n",
    "            else:\n",
    "                continue    \n",
    "        break\n",
    "b.sort()\n",
    "for i in range(0,len(b)):\n",
    "    a=str(b[i])\n",
    "    print(a)\n",
    "\n"
   ]
  },
  {
   "cell_type": "code",
   "execution_count": null,
   "metadata": {},
   "outputs": [],
   "source": [
    "#Finding the percentage\n",
    "if __name__ == '__main__':\n",
    "    n = int(input())\n",
    "    student_marks = {}\n",
    "    for _ in range(n):\n",
    "        name, *line = input().split()\n",
    "        scores = list(map(float, line))\n",
    "        student_marks[name] = scores\n",
    "    query_name = input()\n",
    "\n",
    "    lst=student_marks.get(query_name)\n",
    "    tong=0\n",
    "\n",
    "    for i in range(0,len(lst)):\n",
    "        tong=tong+lst[i]\n",
    "        \n",
    "    avera=tong/len(lst)\n",
    "    \n",
    "    print(\"%.2f\" % avera)\n",
    "    \n"
   ]
  },
  {
   "cell_type": "code",
   "execution_count": 104,
   "metadata": {},
   "outputs": [
    {
     "name": "stdout",
     "output_type": "stream",
     "text": [
      "1125115\n",
      "4\n"
     ]
    }
   ],
   "source": [
    "so=input()\n"
   ]
  }
 ],
 "metadata": {
  "kernelspec": {
   "display_name": "Python 3.10.7 64-bit",
   "language": "python",
   "name": "python3"
  },
  "language_info": {
   "codemirror_mode": {
    "name": "ipython",
    "version": 3
   },
   "file_extension": ".py",
   "mimetype": "text/x-python",
   "name": "python",
   "nbconvert_exporter": "python",
   "pygments_lexer": "ipython3",
   "version": "3.10.7"
  },
  "orig_nbformat": 4,
  "vscode": {
   "interpreter": {
    "hash": "31671a60cee805c34c73116577b485118ff3a75c458d3004d49632c19702ac60"
   }
  }
 },
 "nbformat": 4,
 "nbformat_minor": 2
}
