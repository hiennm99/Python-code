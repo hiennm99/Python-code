{
 "cells": [
  {
   "cell_type": "code",
   "execution_count": null,
   "metadata": {},
   "outputs": [],
   "source": [
    "def fizzBuzz(n):\n",
    "    # Write your code here\n",
    "    for i in range(1,n+1):\n",
    "        if (i%3==0):\n",
    "            if (i%5==0):\n",
    "                print('FizzBuzz')\n",
    "            elif (i%5!=0):\n",
    "                print('Fizz')\n",
    "        elif (i%5==0):\n",
    "            if (i%3==0):\n",
    "                print('FizzBuzz')\n",
    "            elif (i%3!=0):\n",
    "                print('Buzz')\n",
    "        else:\n",
    "            print(i)\n",
    "                    \n",
    "    \n",
    "\n",
    "if __name__ == '__main__':\n",
    "    n = int(input().strip())\n",
    "\n",
    "    fizzBuzz(n)"
   ]
  },
  {
   "cell_type": "code",
   "execution_count": 29,
   "metadata": {},
   "outputs": [
    {
     "name": "stdout",
     "output_type": "stream",
     "text": [
      "3.50\n"
     ]
    }
   ],
   "source": [
    "import math\n",
    "import os\n",
    "import random\n",
    "import re\n",
    "import sys\n",
    "\n",
    "\n",
    "# write your code here\n",
    "def avg(*nums):\n",
    "    so=list(nums)\n",
    "    sum=0\n",
    "    for i in nums:\n",
    "        sum=sum+i\n",
    "    return sum/len(so)\n",
    "    \n",
    "if __name__ == '__main__':   \n",
    "    nums = [2,5]\n",
    "    res = avg(*nums)\n",
    "    \n",
    "    print('%.2f' % res)"
   ]
  },
  {
   "cell_type": "code",
   "execution_count": 57,
   "metadata": {},
   "outputs": [
    {
     "name": "stdout",
     "output_type": "stream",
     "text": [
      "13579bdfgjkmnqrsuv\n"
     ]
    }
   ],
   "source": [
    "def MissingCharacters(s):\n",
    "    so_chuan='1234567890'\n",
    "    kitu_chuan='abcdefghijklmnopqrstuvwxyz'\n",
    "    so=''\n",
    "    kitu=''\n",
    "    so2=''\n",
    "    kitu2=''\n",
    "    for i in range(len(s)):\n",
    "        if s[i] in kitu_chuan:\n",
    "            kitu+=s[i]\n",
    "        elif s[i] in so_chuan:\n",
    "            so+=s[i]\n",
    "            \n",
    "    for i in range(len(kitu_chuan)):\n",
    "        if kitu_chuan[i] not in kitu:\n",
    "            kitu2+=kitu_chuan[i]\n",
    "    for i in range(len(so_chuan)):\n",
    "        if so_chuan[i] not in so:\n",
    "            so2+=so_chuan[i]   \n",
    "    \n",
    "    so_out=so2+kitu2\n",
    "    so_out2=sorted(so_out)\n",
    "    so_out3=''\n",
    "    for i in range(len(so_out2)):\n",
    "        so_out3+=str(so_out2[i])\n",
    "    return so_out3\n",
    "\n",
    "result=MissingCharacters('8hypotheticall024y6wxz')    \n",
    "print(result)\n",
    "    "
   ]
  },
  {
   "cell_type": "code",
   "execution_count": 43,
   "metadata": {},
   "outputs": [
    {
     "name": "stdout",
     "output_type": "stream",
     "text": [
      "['a', 'a', 'g', 'i', 'm', 'n', 'n', 'q', 'r', 't', 'u']\n"
     ]
    }
   ],
   "source": [
    "a='quantrimang'\n",
    "b=sorted(a)\n",
    "print(b)"
   ]
  }
 ],
 "metadata": {
  "kernelspec": {
   "display_name": "Python 3.10.7 64-bit",
   "language": "python",
   "name": "python3"
  },
  "language_info": {
   "codemirror_mode": {
    "name": "ipython",
    "version": 3
   },
   "file_extension": ".py",
   "mimetype": "text/x-python",
   "name": "python",
   "nbconvert_exporter": "python",
   "pygments_lexer": "ipython3",
   "version": "3.10.7"
  },
  "orig_nbformat": 4,
  "vscode": {
   "interpreter": {
    "hash": "31671a60cee805c34c73116577b485118ff3a75c458d3004d49632c19702ac60"
   }
  }
 },
 "nbformat": 4,
 "nbformat_minor": 2
}
