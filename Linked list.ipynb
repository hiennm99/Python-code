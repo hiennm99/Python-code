{
 "cells": [
  {
   "cell_type": "code",
   "execution_count": 75,
   "metadata": {},
   "outputs": [],
   "source": [
    "#Tao class Node\n",
    "class Node:\n",
    "    def __init__(self,data):\n",
    "        self.data=data\n",
    "        self.next=None\n"
   ]
  },
  {
   "cell_type": "code",
   "execution_count": 83,
   "metadata": {},
   "outputs": [],
   "source": [
    "#Tao class DSLK\n",
    "\n",
    "class LinkedList():\n",
    "    def __init__(self):\n",
    "        self.head=None\n",
    "\n",
    "    # In danh sach lien ket\n",
    "    def printList(self):\n",
    "        temp=self.head\n",
    "        while (temp):\n",
    "            print(temp.data)\n",
    "            temp=temp.next\n",
    "\n",
    "    # Chen 1 nut vao dau danh sach\n",
    "    def push_front(self,new_data):\n",
    "        new_node=Node(new_data)\n",
    "        new_node.next=self.head\n",
    "        self.head=new_node\n",
    "\n",
    "    # Chen 1 nut vao cuoi danh sach\n",
    "    def push_back(self,new_data):\n",
    "        new_node=Node(new_data)\n",
    "\n",
    "        if self.head is None:\n",
    "            self.head=new_node\n",
    "        else:\n",
    "            last=self.head \n",
    "            while (last.next):\n",
    "                last=last.next\n",
    "\n",
    "            last.next=new_node\n",
    "    # Chen 1 nut vao sau 1 nut cho truoc\n"
   ]
  },
  {
   "cell_type": "code",
   "execution_count": 84,
   "metadata": {},
   "outputs": [],
   "source": [
    "\n",
    "\n",
    "# Khoi tao 1 DSLK rong\n",
    "from more_itertools import last\n",
    "\n",
    "\n",
    "dslk=LinkedList()\n",
    "\n",
    "# Them node 1 lam Head\n",
    "dslk.head=Node(1)\n",
    "\n",
    "# Them node 2 vao sau HEAD\n",
    "second_node=Node(2)\n",
    "dslk.head.next=second_node\n",
    "# Them node 3 vao sau node 2\n",
    "third_node=Node(3)\n",
    "second_node.next=third_node"
   ]
  },
  {
   "cell_type": "code",
   "execution_count": 85,
   "metadata": {},
   "outputs": [
    {
     "name": "stdout",
     "output_type": "stream",
     "text": [
      "1\n",
      "2\n",
      "3\n"
     ]
    }
   ],
   "source": [
    "dslk.printList()"
   ]
  },
  {
   "cell_type": "code",
   "execution_count": 82,
   "metadata": {},
   "outputs": [
    {
     "name": "stdout",
     "output_type": "stream",
     "text": [
      "1\n",
      "5\n"
     ]
    }
   ],
   "source": [
    "dslk.printList()"
   ]
  },
  {
   "cell_type": "code",
   "execution_count": 88,
   "metadata": {},
   "outputs": [],
   "source": [
    "dslk.push_front(4)"
   ]
  },
  {
   "cell_type": "code",
   "execution_count": 86,
   "metadata": {},
   "outputs": [],
   "source": [
    "dslk.push_back(5)"
   ]
  },
  {
   "cell_type": "code",
   "execution_count": 89,
   "metadata": {},
   "outputs": [
    {
     "name": "stdout",
     "output_type": "stream",
     "text": [
      "4\n",
      "1\n",
      "2\n",
      "3\n",
      "5\n"
     ]
    }
   ],
   "source": [
    "dslk.printList()"
   ]
  },
  {
   "cell_type": "code",
   "execution_count": null,
   "metadata": {},
   "outputs": [],
   "source": [
    "https://viblo.asia/p/bieu-dien-mot-so-cau-truc-du-lieu-bang-ngon-ngu-python-Ljy5V4eGZra"
   ]
  }
 ],
 "metadata": {
  "kernelspec": {
   "display_name": "Python 3.10.5 64-bit",
   "language": "python",
   "name": "python3"
  },
  "language_info": {
   "codemirror_mode": {
    "name": "ipython",
    "version": 3
   },
   "file_extension": ".py",
   "mimetype": "text/x-python",
   "name": "python",
   "nbconvert_exporter": "python",
   "pygments_lexer": "ipython3",
   "version": "3.10.5"
  },
  "orig_nbformat": 4,
  "vscode": {
   "interpreter": {
    "hash": "31671a60cee805c34c73116577b485118ff3a75c458d3004d49632c19702ac60"
   }
  }
 },
 "nbformat": 4,
 "nbformat_minor": 2
}
