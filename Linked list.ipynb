{
 "cells": [
  {
   "cell_type": "code",
   "execution_count": 153,
   "metadata": {},
   "outputs": [],
   "source": [
    "#Tao class Node\n",
    "class Node:\n",
    "    def __init__(self,data):\n",
    "        self.data=data\n",
    "        self.next=None\n"
   ]
  },
  {
   "cell_type": "code",
   "execution_count": 212,
   "metadata": {},
   "outputs": [],
   "source": [
    "#Tao class DSLK\n",
    "\n",
    "from hmac import new\n",
    "\n",
    "from requests import delete\n",
    "\n",
    "\n",
    "class LinkedList():\n",
    "    def __init__(self):\n",
    "        self.head=None\n",
    "        self.tail=None\n",
    "\n",
    "    # In danh sach lien ket\n",
    "    def PrintList(self):\n",
    "        temp=self.head\n",
    "        while (temp != None):\n",
    "            print(temp.data)\n",
    "            temp=temp.next\n",
    "   \n",
    "    # Them 1 node vao dau danh sach\n",
    "    def Push(self,new_data):\n",
    "        if (self.head==None):\n",
    "            print(' Linked list is empty !!!')\n",
    "        else: \n",
    "            # Tao 1 Node moi\n",
    "            new_node=Node(new_data)\n",
    "            # Cho con tro Next cua nut moi tro vao Head\n",
    "            new_node.next=self.head\n",
    "            # Gan Head vao nut moi\n",
    "            self.head=new_node\n",
    "\n",
    "    def Append(self,new_data):\n",
    "        if (self.head==None):\n",
    "            print(' Linked list is empty !!!')\n",
    "        else: \n",
    "            # Tao 1 Node moi\n",
    "            new_node=Node(new_data)\n",
    "            # Cho con tro Next cua nut moi tro vao Head\n",
    "            self.tail.next=new_node\n",
    "\n",
    "    # Them 1 node vao sau 1 vi tri\n",
    "    def Insert_After(self,node,new_data):\n",
    "        if (self.head==None):\n",
    "            print(' Linked list is empty !!!')\n",
    "        else: \n",
    "            # Tao 1 Node moi\n",
    "            new_node=Node(new_data)\n",
    "            temp=self.head\n",
    "            while (temp):                \n",
    "                if (node==temp.data):\n",
    "                    new_node.next=temp.next\n",
    "                    temp.next=new_node\n",
    "                    break\n",
    "                else:\n",
    "                    temp=temp.next     \n",
    "\n",
    "    # Xoa 1 node\n",
    "    def Remove(self,node):\n",
    "        prev_node=self.head\n",
    "        temp=self.head.next\n",
    "        temp1=self.head\n",
    "        # Kiem tra xem node phai la head khong?\n",
    "        if (temp1.data==node):\n",
    "            temp1.next=self.head\n",
    "        else:\n",
    "            while (temp):\n",
    "                if (temp.data==node):\n",
    "                    prev_node.next=temp.next\n",
    "                    break\n",
    "                else:\n",
    "                    prev_node=prev_node.next\n",
    "                    temp=temp.next\n",
    "\n"
   ]
  },
  {
   "cell_type": "code",
   "execution_count": 225,
   "metadata": {},
   "outputs": [],
   "source": [
    "# Khoi tao 1 DSLK gom 3 nut\n",
    "asdfasd\n",
    "# 1. Tao ra 3 Node \n",
    "first_node=Node(1)\n",
    "second_node=Node(2)\n",
    "third_node=Node(3)\n",
    "\n",
    "# 2. Gan Head=first_node\n",
    "dslk=LinkedList()\n",
    "dslk.head=first_node\n",
    "\n",
    "# 3. Cho con tro next tro vao second_node\n",
    "dslk.head.next=second_node\n",
    "\n",
    "# 3. Cho con tro next tro vao third_node\n",
    "second_node.next=third_node\n",
    "dslk.tail=third_node"
   ]
  },
  {
   "cell_type": "code",
   "execution_count": 226,
   "metadata": {},
   "outputs": [
    {
     "name": "stdout",
     "output_type": "stream",
     "text": [
      "1\n",
      "2\n",
      "3\n"
     ]
    }
   ],
   "source": [
    "# In danh sach lien ket\n",
    "dslk.PrintList()"
   ]
  },
  {
   "cell_type": "code",
   "execution_count": 220,
   "metadata": {},
   "outputs": [
    {
     "name": "stdout",
     "output_type": "stream",
     "text": [
      "0\n",
      "1\n",
      "2\n",
      "3\n"
     ]
    }
   ],
   "source": [
    "dslk.Push(0)\n",
    "dslk.PrintList()"
   ]
  },
  {
   "cell_type": "code",
   "execution_count": 221,
   "metadata": {},
   "outputs": [
    {
     "name": "stdout",
     "output_type": "stream",
     "text": [
      "0\n",
      "1\n",
      "2\n",
      "3\n",
      "4\n"
     ]
    }
   ],
   "source": [
    "dslk.Append(4)\n",
    "dslk.PrintList()"
   ]
  },
  {
   "cell_type": "code",
   "execution_count": null,
   "metadata": {},
   "outputs": [],
   "source": [
    "dslk.Insert_After(1,6)\n",
    "dslk.PrintList()"
   ]
  },
  {
   "cell_type": "code",
   "execution_count": 227,
   "metadata": {},
   "outputs": [
    {
     "name": "stdout",
     "output_type": "stream",
     "text": [
      "1\n",
      "3\n"
     ]
    }
   ],
   "source": [
    "dslk.Remove(2)\n",
    "dslk.PrintList()"
   ]
  },
  {
   "cell_type": "code",
   "execution_count": null,
   "metadata": {},
   "outputs": [],
   "source": [
    "https://daynhauhoc.com/t/xoa-phan-tu-bat-ky-trong-danh-sach-lien-ket-don/22379/5\n",
    "https://www.youtube.com/watch?v=RWeFGYD85dA&t=290s\n",
    "https://viblo.asia/p/bieu-dien-mot-so-cau-truc-du-lieu-bang-ngon-ngu-python-Ljy5V4eGZra"
   ]
  }
 ],
 "metadata": {
  "kernelspec": {
   "display_name": "Python 3.10.5 64-bit",
   "language": "python",
   "name": "python3"
  },
  "language_info": {
   "codemirror_mode": {
    "name": "ipython",
    "version": 3
   },
   "file_extension": ".py",
   "mimetype": "text/x-python",
   "name": "python",
   "nbconvert_exporter": "python",
   "pygments_lexer": "ipython3",
   "version": "3.10.7"
  },
  "orig_nbformat": 4,
  "vscode": {
   "interpreter": {
    "hash": "31671a60cee805c34c73116577b485118ff3a75c458d3004d49632c19702ac60"
   }
  }
 },
 "nbformat": 4,
 "nbformat_minor": 2
}
