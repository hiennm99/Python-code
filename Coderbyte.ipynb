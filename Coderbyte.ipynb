{
 "cells": [
  {
   "cell_type": "code",
   "execution_count": 3,
   "metadata": {},
   "outputs": [
    {
     "name": "stdout",
     "output_type": "stream",
     "text": [
      "40320\n"
     ]
    }
   ],
   "source": [
    "def FirstFactorial(num):\n",
    "  n=num-1\n",
    "  for i in range(n,1,-1):\n",
    "    num=num*i\n",
    "\n",
    "  # code goes here\n",
    "  return num\n",
    "\n",
    "# keep this function call here \n",
    "print(FirstFactorial(int(input())))"
   ]
  },
  {
   "cell_type": "code",
   "execution_count": 4,
   "metadata": {},
   "outputs": [
    {
     "name": "stdout",
     "output_type": "stream",
     "text": [
      "cba321\n"
     ]
    }
   ],
   "source": [
    "def FirstReverse(strParam):\n",
    "  strParam=strParam[::-1]\n",
    "  # code goes here\n",
    "  return strParam\n",
    "\n",
    "# keep this function call here \n",
    "print(FirstReverse(input()))"
   ]
  },
  {
   "cell_type": "code",
   "execution_count": 41,
   "metadata": {},
   "outputs": [
    {
     "name": "stdout",
     "output_type": "stream",
     "text": [
      "6\n"
     ]
    }
   ],
   "source": [
    "def digital_root(n):\n",
    "    so=list(n)\n",
    "    tong=0\n",
    "    i=0\n",
    "    while (i<len(so)):\n",
    "        x=int(so[i])\n",
    "        tong=tong+x\n",
    "        i+=1\n",
    "    return tong\n",
    "\n",
    "tong=(digital_root(input()))\n",
    "if (tong>9):\n",
    "    a=str(tong)\n",
    "    b=list(a)\n",
    "    print(digital_root(b))\n",
    "else:\n",
    "    print(tong)"
   ]
  }
 ],
 "metadata": {
  "kernelspec": {
   "display_name": "Python 3.10.7 64-bit",
   "language": "python",
   "name": "python3"
  },
  "language_info": {
   "codemirror_mode": {
    "name": "ipython",
    "version": 3
   },
   "file_extension": ".py",
   "mimetype": "text/x-python",
   "name": "python",
   "nbconvert_exporter": "python",
   "pygments_lexer": "ipython3",
   "version": "3.10.7"
  },
  "orig_nbformat": 4,
  "vscode": {
   "interpreter": {
    "hash": "31671a60cee805c34c73116577b485118ff3a75c458d3004d49632c19702ac60"
   }
  }
 },
 "nbformat": 4,
 "nbformat_minor": 2
}
