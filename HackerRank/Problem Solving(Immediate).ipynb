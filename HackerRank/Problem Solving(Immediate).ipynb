{
 "cells": [
  {
   "cell_type": "code",
   "execution_count": 13,
   "metadata": {},
   "outputs": [],
   "source": [
    "def CutList(lst,pos):\n",
    "    a=lst[0:pos]\n",
    "    b=sorted(a)\n",
    "    return b"
   ]
  },
  {
   "cell_type": "code",
   "execution_count": 16,
   "metadata": {},
   "outputs": [],
   "source": [
    "def Cal_Sum(lst):\n",
    "    sum=0\n",
    "    for index,value in enumerate(lst,1):\n",
    "        sum+=index*value\n",
    "    return sum\n",
    "    "
   ]
  },
  {
   "cell_type": "code",
   "execution_count": 21,
   "metadata": {},
   "outputs": [
    {
     "name": "stdout",
     "output_type": "stream",
     "text": [
      "80\n"
     ]
    }
   ],
   "source": [
    "a=[9,5,8]\n",
    "sum=0\n",
    "for i in range(1,len(a)+1):\n",
    "    m=CutList(a,i)\n",
    "    sum+=Cal_Sum(m)\n",
    "print(sum)"
   ]
  },
  {
   "cell_type": "code",
   "execution_count": 44,
   "metadata": {},
   "outputs": [
    {
     "ename": "IndexError",
     "evalue": "list index out of range",
     "output_type": "error",
     "traceback": [
      "\u001b[1;31m---------------------------------------------------------------------------\u001b[0m",
      "\u001b[1;31mIndexError\u001b[0m                                Traceback (most recent call last)",
      "Cell \u001b[1;32mIn [44], line 39\u001b[0m\n\u001b[0;32m     36\u001b[0m     a_item \u001b[39m=\u001b[39m \u001b[39mint\u001b[39m(\u001b[39minput\u001b[39m()\u001b[39m.\u001b[39mstrip())\n\u001b[0;32m     37\u001b[0m     a\u001b[39m.\u001b[39mappend(a_item)\n\u001b[1;32m---> 39\u001b[0m result \u001b[39m=\u001b[39m sortedSum(a)\n\u001b[0;32m     40\u001b[0m \u001b[39mprint\u001b[39m(result)\n",
      "Cell \u001b[1;32mIn [44], line 22\u001b[0m, in \u001b[0;36msortedSum\u001b[1;34m(a)\u001b[0m\n\u001b[0;32m     20\u001b[0m     \u001b[39mwhile\u001b[39;00m (j\u001b[39m<\u001b[39m\u001b[39m=\u001b[39m\u001b[39mlen\u001b[39m(m)):\n\u001b[0;32m     21\u001b[0m         j\u001b[39m+\u001b[39m\u001b[39m=\u001b[39m\u001b[39m1\u001b[39m\n\u001b[1;32m---> 22\u001b[0m         s\u001b[39m+\u001b[39m\u001b[39m=\u001b[39mj\u001b[39m*\u001b[39mm[j]\n\u001b[0;32m     23\u001b[0m     \u001b[39msum\u001b[39m\u001b[39m+\u001b[39m\u001b[39m=\u001b[39ms\n\u001b[0;32m     25\u001b[0m o\u001b[39m=\u001b[39m\u001b[39m1000000007\u001b[39m\n",
      "\u001b[1;31mIndexError\u001b[0m: list index out of range"
     ]
    }
   ],
   "source": [
    "\n",
    "# def CutList(lst,pos):\n",
    "#     a=lst[0:pos]\n",
    "#     b=sorted(a)\n",
    "#     return b\n",
    "\n",
    "def Cal_Sum(lst):\n",
    "    sum=0\n",
    "    for index,value in enumerate(lst,1):\n",
    "        sum+=index*value\n",
    "    return sum\n",
    "\n",
    "\n",
    "def sortedSum(a):\n",
    "    sum=0\n",
    "    for i in (1,len(a)+1):\n",
    "        b=a[0:i]\n",
    "        m=sorted(b)\n",
    "        s=0\n",
    "        j=0\n",
    "        while (j<=len(m)):\n",
    "            j+=1\n",
    "            s+=j*m[j]\n",
    "        sum+=s\n",
    "               \n",
    "    o=1000000007\n",
    "    return sum%o\n",
    "    \n",
    "    \n",
    "if __name__ == '__main__':\n",
    "\n",
    "    a_count = int(input().strip())\n",
    "\n",
    "    a = []\n",
    "\n",
    "    for _ in range(a_count):\n",
    "        a_item = int(input().strip())\n",
    "        a.append(a_item)\n",
    "\n",
    "    result = sortedSum(a)\n",
    "    print(result)"
   ]
  }
 ],
 "metadata": {
  "kernelspec": {
   "display_name": "Python 3.10.7 64-bit",
   "language": "python",
   "name": "python3"
  },
  "language_info": {
   "codemirror_mode": {
    "name": "ipython",
    "version": 3
   },
   "file_extension": ".py",
   "mimetype": "text/x-python",
   "name": "python",
   "nbconvert_exporter": "python",
   "pygments_lexer": "ipython3",
   "version": "3.10.7"
  },
  "orig_nbformat": 4,
  "vscode": {
   "interpreter": {
    "hash": "31671a60cee805c34c73116577b485118ff3a75c458d3004d49632c19702ac60"
   }
  }
 },
 "nbformat": 4,
 "nbformat_minor": 2
}
