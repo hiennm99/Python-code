{
 "cells": [
  {
   "cell_type": "code",
   "execution_count": null,
   "metadata": {},
   "outputs": [],
   "source": [
    "#Nested List\n",
    "\n",
    "if __name__ == '__main__':\n",
    "    students=[]\n",
    "    for _ in range(int(input())):\n",
    "        a=[]\n",
    "        name = input()\n",
    "        score = float(input())\n",
    "        a.append(name)\n",
    "        a.append(score)\n",
    "        students.append(a)\n",
    "\n",
    "# Sort by key[1]\n",
    "students=sorted(students,key=lambda x:x[1])\n",
    "mini=students[0]\n",
    "for i in range(1,len(students)):\n",
    "    if students[i][1]==mini[1]:\n",
    "        i+=1\n",
    "    else:\n",
    "        x=i\n",
    "        b=[]\n",
    "        b.append(students[x][0])\n",
    "        for j in range(x+1,len(students)):\n",
    "            if (students[j][1]==students[x][1]):\n",
    "                b.append(students[j][0])\n",
    "            else:\n",
    "                continue    \n",
    "        break\n",
    "b.sort()\n",
    "for i in range(0,len(b)):\n",
    "    a=str(b[i])\n",
    "    print(a)\n",
    "\n"
   ]
  },
  {
   "cell_type": "code",
   "execution_count": null,
   "metadata": {},
   "outputs": [],
   "source": [
    "#Finding the percentage\n",
    "if __name__ == '__main__':\n",
    "    n = int(input())\n",
    "    student_marks = {}\n",
    "    for _ in range(n):\n",
    "        name, *line = input().split()\n",
    "        scores = list(map(float, line))\n",
    "        student_marks[name] = scores\n",
    "    query_name = input()\n",
    "\n",
    "    lst=student_marks.get(query_name)\n",
    "    tong=0\n",
    "\n",
    "    for i in range(0,len(lst)):\n",
    "        tong=tong+lst[i]\n",
    "        \n",
    "    avera=tong/len(lst)\n",
    "    \n",
    "    print(\"%.2f\" % avera)\n",
    "    \n"
   ]
  },
  {
   "cell_type": "code",
   "execution_count": null,
   "metadata": {},
   "outputs": [],
   "source": [
    "# Count number\n",
    "nhap=input()\n",
    "n=nhap+' '\n",
    "so=list(n)\n",
    "numbers=[]\n",
    "d=1\n",
    "for i in range(len(n)-1):\n",
    "    if (so[i]==so[i+1]):\n",
    "        d+=1\n",
    "        i+=1\n",
    "    else: \n",
    "        t=[]\n",
    "        t.append(d)\n",
    "        t.append(int(so[i]))\n",
    "        numbers.append(tuple(t))\n",
    "        numbers.append(' ')\n",
    "        d=1\n",
    "\n",
    "s=''\n",
    "for i in range(len(numbers)):\n",
    "    temp=str(numbers[i])\n",
    "    s=s+temp\n",
    "\n",
    "print(s)\n"
   ]
  },
  {
   "cell_type": "code",
   "execution_count": 335,
   "metadata": {},
   "outputs": [],
   "source": [
    "def Check_Start_Digit(num):\n",
    "    x=int(num)\n",
    "    if (x==4) | (x==5) | (x==6):\n",
    "        return True\n",
    "    else: \n",
    "        return False"
   ]
  },
  {
   "cell_type": "code",
   "execution_count": 336,
   "metadata": {},
   "outputs": [],
   "source": [
    "def Check_Digits(num):\n",
    "    if (x>=0) & (x<=9):\n",
    "        return True \n",
    "    else:\n",
    "        return False"
   ]
  },
  {
   "cell_type": "code",
   "execution_count": null,
   "metadata": {},
   "outputs": [],
   "source": [
    "# Check Visa card\n",
    "def Check_Start_Digit(num):\n",
    "    x=int(num)\n",
    "    if (x==4) | (x==5) | (x==6):\n",
    "        return True\n",
    "    else: \n",
    "        return False\n",
    "    \n",
    "def Check_Digits(num):\n",
    "    if (num>=0) & (num<=9):\n",
    "        return True \n",
    "    else:\n",
    "        return False\n",
    "\n",
    "\n",
    "if __name__ == '__main__':\n",
    "    n = int(input())\n",
    "\n",
    "    for i in range(n):\n",
    "        card=input()\n",
    "        d=0\n",
    "        if Check_Start_Digit(int(card[0]))==True:    \n",
    "            if len(card)==16:\n",
    "                for i in range(1,len(card)):\n",
    "                    if Check_Digits(int(card[i]))==False:\n",
    "                        d=1\n",
    "                        break \n",
    "            elif (len(card)==19):\n",
    "                if (card[4]=='-') & (card[9]=='-'):\n",
    "                    if (card[13]=='-'):\n",
    "                        d=0\n",
    "                else:\n",
    "                    d=1\n",
    "            else:\n",
    "                d=1\n",
    "        else:\n",
    "            d=1\n",
    "\n",
    "        for i in range(len(card)):\n",
    "            if card.count(card[i])>3:\n",
    "                d=1\n",
    "                break \n",
    "            else:\n",
    "                continue\n",
    "\n",
    "        if (d==0):\n",
    "            print('Valid')\n",
    "        else:\n",
    "            print('Invalid')"
   ]
  },
  {
   "cell_type": "code",
   "execution_count": null,
   "metadata": {},
   "outputs": [],
   "source": [
    "#Athlete Sort\n",
    "if __name__ == '__main__':\n",
    "    nm = input().split()\n",
    "\n",
    "    n = int(nm[0])\n",
    "\n",
    "    m = int(nm[1])\n",
    "\n",
    "    arr = []\n",
    "\n",
    "    for _ in range(n):\n",
    "        arr.append(list(map(int, input().rstrip().split())))\n",
    "\n",
    "    k = int(input())\n",
    "\n",
    "    students=sorted(arr,key=lambda x:x[k])\n",
    "\n",
    "    students=sorted(arr,key=lambda x:x[k])\n",
    "    for i in range(len(students)):\n",
    "        j=0\n",
    "        t=''\n",
    "        for j in range(m):\n",
    "            a=str(students[i][j])\n",
    "            t=t+a+' '\n",
    "        print(t)\n",
    "    "
   ]
  },
  {
   "cell_type": "code",
   "execution_count": 620,
   "metadata": {},
   "outputs": [],
   "source": [
    "def Left_rotation(a):\n",
    "    b=[]\n",
    "    for i in range(1,len(a)):\n",
    "        b.append(a[i])\n",
    "    b.append(a[0])\n",
    "    return b\n",
    "\n",
    "for i in range(4):\n",
    "    a=Left_rotation(a)\n",
    "    print(a)"
   ]
  },
  {
   "cell_type": "code",
   "execution_count": 621,
   "metadata": {},
   "outputs": [],
   "source": [
    "a=[1,2,3,4,5]\n",
    "\n"
   ]
  },
  {
   "cell_type": "code",
   "execution_count": 622,
   "metadata": {},
   "outputs": [
    {
     "name": "stdout",
     "output_type": "stream",
     "text": [
      "[2, 3, 4, 5, 1]\n",
      "[3, 4, 5, 1, 2]\n",
      "[4, 5, 1, 2, 3]\n",
      "[5, 1, 2, 3, 4]\n"
     ]
    }
   ],
   "source": [
    "for i in range(4):\n",
    "    a=Left_rotation(a)\n",
    "    print(a)"
   ]
  },
  {
   "cell_type": "code",
   "execution_count": 7,
   "metadata": {},
   "outputs": [
    {
     "name": "stdout",
     "output_type": "stream",
     "text": [
      "[5, 1, 2, 3, 4]\n"
     ]
    }
   ],
   "source": [
    "#!/bin/python3\n",
    "\n",
    "import math\n",
    "import os\n",
    "import random\n",
    "import re\n",
    "import sys\n",
    "\n",
    "def rotateLeft(d, arr):\n",
    "    while d > 0:\n",
    "        arr.append(arr.pop(0))\n",
    "        d -= 1\n",
    "    return arr\n",
    "        \n",
    "if __name__ == '__main__':\n",
    "\n",
    "    first_multiple_input = input().rstrip().split()\n",
    "\n",
    "    n = int(first_multiple_input[0])\n",
    "\n",
    "    d = int(first_multiple_input[1])\n",
    "\n",
    "    arr = list(map(int, input().rstrip().split()))\n",
    "\n",
    "    result = rotateLeft(d, arr)\n",
    "    print(result)\n"
   ]
  },
  {
   "cell_type": "code",
   "execution_count": 13,
   "metadata": {},
   "outputs": [],
   "source": []
  },
  {
   "cell_type": "code",
   "execution_count": 14,
   "metadata": {},
   "outputs": [
    {
     "name": "stdout",
     "output_type": "stream",
     "text": [
      "[1, 2, 3, 4]\n"
     ]
    }
   ],
   "source": [
    "\n",
    "print(a)"
   ]
  },
  {
   "cell_type": "code",
   "execution_count": 16,
   "metadata": {},
   "outputs": [],
   "source": [
    "def maximumToys(prices,k):\n",
    "    prices.sort()\n",
    "    sum=0\n",
    "    d=0\n",
    "    for i in range(len(prices)):\n",
    "        if sum<=k:\n",
    "            sum+=prices[i]\n",
    "            d+=1\n",
    "        elif sum>k:\n",
    "            break \n",
    "    d-=1\n",
    "    return d "
   ]
  },
  {
   "cell_type": "code",
   "execution_count": 17,
   "metadata": {},
   "outputs": [
    {
     "name": "stdout",
     "output_type": "stream",
     "text": [
      "3\n"
     ]
    }
   ],
   "source": [
    "k=7\n",
    "a=[1,2,3,4]\n",
    "result=maximumToys(a,k)\n",
    "print(result)"
   ]
  },
  {
   "cell_type": "code",
   "execution_count": 46,
   "metadata": {},
   "outputs": [],
   "source": [
    "# Create the areas list and make some changes\n",
    "areas = [\"hallway\", 11.25, \"kitchen\", 18.0, \"chill zone\", 20.0,\n",
    "         \"bedroom\", 10.75, \"bathroom\", 10.50]\n",
    "\n",
    "# Add poolhouse data to areas, new list is areas_1\n",
    "areas1=areas + [\"poolhouse\",24.5]\n",
    "# Add garage data to areas_1, new list is areas_2\n",
    "areas2= areas1 + [\"garage\"] + [15.45]\n"
   ]
  },
  {
   "cell_type": "code",
   "execution_count": null,
   "metadata": {},
   "outputs": [],
   "source": [
    "print(areas)\n",
    "print(areas1)\n",
    "print(areas2)"
   ]
  },
  {
   "cell_type": "code",
   "execution_count": 24,
   "metadata": {},
   "outputs": [
    {
     "name": "stdout",
     "output_type": "stream",
     "text": [
      "Hello Ross Taylor ! You just delved into python.\n"
     ]
    }
   ],
   "source": [
    "#\n",
    "# Complete the 'print_full_name' function below.\n",
    "#\n",
    "# The function is expected to return a STRING.\n",
    "# The function accepts following parameters:\n",
    "#  1. STRING first\n",
    "#  2. STRING last\n",
    "#\n",
    "\n",
    "def print_full_name(first, last):\n",
    "    print('Hello '+first+ ' '+last+' !'+' You just delved into python.')\n",
    "\n",
    "if __name__ == '__main__':\n",
    "    first_name = input()\n",
    "    last_name = input()\n",
    "    print_full_name(first_name, last_name)"
   ]
  },
  {
   "cell_type": "code",
   "execution_count": 28,
   "metadata": {},
   "outputs": [
    {
     "name": "stdout",
     "output_type": "stream",
     "text": [
      "abrackdabra\n"
     ]
    }
   ],
   "source": [
    "def mutate_string(string, position, character):\n",
    "    a=string[:position]\n",
    "    b=a+character+string[position+1:]\n",
    "    return b\n",
    "\n",
    "if __name__ == '__main__':\n",
    "    s = input()\n",
    "    i, c = input().split()\n",
    "    s_new = mutate_string(s, int(i), c)\n",
    "    print(s_new)"
   ]
  }
 ],
 "metadata": {
  "kernelspec": {
   "display_name": "Python 3.10.7 64-bit",
   "language": "python",
   "name": "python3"
  },
  "language_info": {
   "codemirror_mode": {
    "name": "ipython",
    "version": 3
   },
   "file_extension": ".py",
   "mimetype": "text/x-python",
   "name": "python",
   "nbconvert_exporter": "python",
   "pygments_lexer": "ipython3",
   "version": "3.10.7"
  },
  "orig_nbformat": 4,
  "vscode": {
   "interpreter": {
    "hash": "31671a60cee805c34c73116577b485118ff3a75c458d3004d49632c19702ac60"
   }
  }
 },
 "nbformat": 4,
 "nbformat_minor": 2
}
