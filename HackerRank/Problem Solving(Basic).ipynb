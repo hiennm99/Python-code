{
 "cells": [
  {
   "cell_type": "code",
   "execution_count": 11,
   "metadata": {},
   "outputs": [],
   "source": [
    "def maxCost(cost, labels, dailyCount):\n",
    "    lst=[]\n",
    "    for i in range(len(labels)):\n",
    "        a=[]\n",
    "        a.append(cost[i])\n",
    "        a.append(labels[i])\n",
    "        lst.append(a)\n",
    "    arr=[] \n",
    "    d=0\n",
    "    sum=0   \n",
    "    for i in range(len(lst)):\n",
    "        if (d<dailyCount):\n",
    "            if lst[i][1]=='legal':\n",
    "                sum+=lst[i][0]\n",
    "                d+=1\n",
    "                sum=0\n",
    "            elif lst[i][1]=='illegal':\n",
    "                sum+=lst[i][0]\n",
    "                i+=1\n",
    "        if (d==dailyCount):\n",
    "            arr.append(sum)\n",
    "    return max(arr)\n"
   ]
  },
  {
   "cell_type": "code",
   "execution_count": 12,
   "metadata": {},
   "outputs": [
    {
     "name": "stdout",
     "output_type": "stream",
     "text": [
      "0\n"
     ]
    }
   ],
   "source": [
    "if __name__ == '__main__':\n",
    "    \n",
    "    cost_count = int(input().strip())\n",
    "\n",
    "    cost = []\n",
    "\n",
    "    for _ in range(cost_count):\n",
    "        cost_item = int(input().strip())\n",
    "        cost.append(cost_item)\n",
    "\n",
    "    labels_count = int(input().strip())\n",
    "\n",
    "    labels = []\n",
    "\n",
    "    for _ in range(labels_count):\n",
    "        labels_item = input()\n",
    "        labels.append(labels_item)\n",
    "\n",
    "    dailyCount = int(input().strip())\n",
    "    result = maxCost(cost, labels, dailyCount)\n",
    "    print(result)"
   ]
  },
  {
   "cell_type": "code",
   "execution_count": null,
   "metadata": {},
   "outputs": [],
   "source": [
    "#!/bin/python3\n",
    "\n",
    "import math\n",
    "import os\n",
    "import random\n",
    "import re\n",
    "import sys\n",
    "\n",
    "\n",
    "\n",
    "#\n",
    "# Complete the 'nearlySimilarRectangles' function below.\n",
    "#\n",
    "# The function is expected to return a LONG_INTEGER.\n",
    "# The function accepts 2D_LONG_INTEGER_ARRAY sides as parameter.\n",
    "#\n",
    "from collections import defaultdict\n",
    "\n",
    "def nearlySimilarRectangles(sides):\n",
    "    gcd = lambda a, b: gcd(b, a % b) if b > 0 else a\n",
    "    d = defaultdict(int)\n",
    "    for w, h in sides:\n",
    "        z = gcd(w, h)\n",
    "        d[(w // z, h // z)] += 1\n",
    "    return sum((x * (x - 1)) // 2 for x in d.values())\n",
    "\n",
    "if __name__ == '__main__':\n",
    "    fptr = open(os.environ['OUTPUT_PATH'], 'w')\n",
    "\n",
    "    sides_rows = int(input().strip())\n",
    "    sides_columns = int(input().strip())\n",
    "\n",
    "    sides = []\n",
    "\n",
    "    for _ in range(sides_rows):\n",
    "        sides.append(list(map(int, input().rstrip().split())))\n",
    "\n",
    "    result = nearlySimilarRectangles(sides)\n",
    "\n",
    "    fptr.write(str(result) + '\\n')\n",
    "\n",
    "    fptr.close()\n"
   ]
  },
  {
   "cell_type": "code",
   "execution_count": 67,
   "metadata": {},
   "outputs": [],
   "source": [
    "def possibleChanges(usernames):\n",
    "    # Write your code here\n",
    "    a=[]\n",
    "    for i in range(len(usernames)):\n",
    "        t=sorted(usernames[i])\n",
    "        temp=\"\".join(t)\n",
    "        if (temp<usernames[i]):\n",
    "            a.append('YES')\n",
    "        else:\n",
    "            a.append('NO')\n",
    "    return a     \n",
    "\n",
    "\n",
    "if __name__ == '__main__':\n",
    "\n",
    "\n",
    "    usernames_count = int(input().strip())\n",
    "\n",
    "    usernames = []\n",
    "\n",
    "    for _ in range(usernames_count):\n",
    "        usernames_item = input()\n",
    "        usernames.append(usernames_item)\n",
    "\n",
    "    result = possibleChanges(usernames)"
   ]
  },
  {
   "cell_type": "code",
   "execution_count": 68,
   "metadata": {},
   "outputs": [],
   "source": [
    "\n",
    "\n"
   ]
  }
 ],
 "metadata": {
  "kernelspec": {
   "display_name": "Python 3.10.7 64-bit",
   "language": "python",
   "name": "python3"
  },
  "language_info": {
   "codemirror_mode": {
    "name": "ipython",
    "version": 3
   },
   "file_extension": ".py",
   "mimetype": "text/x-python",
   "name": "python",
   "nbconvert_exporter": "python",
   "pygments_lexer": "ipython3",
   "version": "3.10.7"
  },
  "orig_nbformat": 4,
  "vscode": {
   "interpreter": {
    "hash": "31671a60cee805c34c73116577b485118ff3a75c458d3004d49632c19702ac60"
   }
  }
 },
 "nbformat": 4,
 "nbformat_minor": 2
}
