{
 "cells": [
  {
   "cell_type": "code",
   "execution_count": null,
   "metadata": {},
   "outputs": [],
   "source": [
    "def fizzBuzz(n):\n",
    "    # Write your code here\n",
    "    for i in range(1,n+1):\n",
    "        if (i%3==0):\n",
    "            if (i%5==0):\n",
    "                print('FizzBuzz')\n",
    "            elif (i%5!=0):\n",
    "                print('Fizz')\n",
    "        elif (i%5==0):\n",
    "            if (i%3==0):\n",
    "                print('FizzBuzz')\n",
    "            elif (i%3!=0):\n",
    "                print('Buzz')\n",
    "        else:\n",
    "            print(i)\n",
    "                    \n",
    "    \n",
    "\n",
    "if __name__ == '__main__':\n",
    "    n = int(input().strip())\n",
    "\n",
    "    fizzBuzz(n)"
   ]
  },
  {
   "cell_type": "code",
   "execution_count": 29,
   "metadata": {},
   "outputs": [
    {
     "name": "stdout",
     "output_type": "stream",
     "text": [
      "3.50\n"
     ]
    }
   ],
   "source": [
    "import math\n",
    "import os\n",
    "import random\n",
    "import re\n",
    "import sys\n",
    "\n",
    "\n",
    "# write your code here\n",
    "def avg(*nums):\n",
    "    so=list(nums)\n",
    "    sum=0\n",
    "    for i in nums:\n",
    "        sum=sum+i\n",
    "    return sum/len(so)\n",
    "    \n",
    "if __name__ == '__main__':   \n",
    "    nums = [2,5]\n",
    "    res = avg(*nums)\n",
    "    \n",
    "    print('%.2f' % res)"
   ]
  },
  {
   "cell_type": "code",
   "execution_count": 57,
   "metadata": {},
   "outputs": [
    {
     "name": "stdout",
     "output_type": "stream",
     "text": [
      "13579bdfgjkmnqrsuv\n"
     ]
    }
   ],
   "source": [
    "def MissingCharacters(s):\n",
    "    so_chuan='1234567890'\n",
    "    kitu_chuan='abcdefghijklmnopqrstuvwxyz'\n",
    "    so=''\n",
    "    kitu=''\n",
    "    so2=''\n",
    "    kitu2=''\n",
    "    for i in range(len(s)):\n",
    "        if s[i] in kitu_chuan:\n",
    "            kitu+=s[i]\n",
    "        elif s[i] in so_chuan:\n",
    "            so+=s[i]\n",
    "            \n",
    "    for i in range(len(kitu_chuan)):\n",
    "        if kitu_chuan[i] not in kitu:\n",
    "            kitu2+=kitu_chuan[i]\n",
    "    for i in range(len(so_chuan)):\n",
    "        if so_chuan[i] not in so:\n",
    "            so2+=so_chuan[i]   \n",
    "    \n",
    "    so_out=so2+kitu2\n",
    "    so_out2=sorted(so_out)\n",
    "    so_out3=''\n",
    "    for i in range(len(so_out2)):\n",
    "        so_out3+=str(so_out2[i])\n",
    "    return so_out3\n",
    "\n",
    "result=MissingCharacters('8hypotheticall024y6wxz')    \n",
    "print(result)\n",
    "    "
   ]
  },
  {
   "cell_type": "code",
   "execution_count": 60,
   "metadata": {},
   "outputs": [],
   "source": [
    "def CheckVowels(key):\n",
    "    vowels=['a','e','i','o','u']\n",
    "    d=0\n",
    "    for index,value in enumerate(key):\n",
    "        if value in vowels:\n",
    "            d+=1\n",
    "        else:\n",
    "            continue\n",
    "    return d\n",
    "    "
   ]
  },
  {
   "cell_type": "code",
   "execution_count": 95,
   "metadata": {},
   "outputs": [],
   "source": [
    "def findSubstring(s,k):\n",
    "    lst=[]  \n",
    "    for i in range(len(s)-2):\n",
    "        b=[]\n",
    "        d=0\n",
    "        temp=s[i:i+k]\n",
    "        b.append(i)\n",
    "        b.append(temp)\n",
    "        d=CheckVowels(temp)\n",
    "        b.append(d)\n",
    "        lst.append(b)\n",
    "    \n",
    "    z=sorted(lst,key=lambda x:x[2])  \n",
    "    max=z[n][2]\n",
    "    result=z[n][1]\n",
    "    for i in range(len(z)):\n",
    "        if z[i][2] == max:\n",
    "            result=z[i][1]\n",
    "            break\n",
    "    return result"
   ]
  },
  {
   "cell_type": "code",
   "execution_count": 96,
   "metadata": {},
   "outputs": [
    {
     "name": "stdout",
     "output_type": "stream",
     "text": [
      "eiua\n"
     ]
    }
   ],
   "source": [
    "a='eiuaooo'\n",
    "findSubstring(a,4)\n"
   ]
  },
  {
   "cell_type": "code",
   "execution_count": 28,
   "metadata": {},
   "outputs": [],
   "source": [
    "oldName='cccc'\n",
    "newName='ccc'\n"
   ]
  },
  {
   "cell_type": "code",
   "execution_count": 29,
   "metadata": {},
   "outputs": [],
   "source": [
    "\n",
    "def Cont(s='',key=''):\n",
    "    d=0\n",
    "    i=0\n",
    "    for i in range(len(s)):\n",
    "        if key in s[i:len(s)+1]:\n",
    "            d+=1\n",
    "    return d\n",
    "\n"
   ]
  },
  {
   "cell_type": "code",
   "execution_count": 30,
   "metadata": {},
   "outputs": [
    {
     "name": "stdout",
     "output_type": "stream",
     "text": [
      "2\n"
     ]
    }
   ],
   "source": [
    "x=Cont(oldName,newName)\n",
    "print(x)\n"
   ]
  },
  {
   "cell_type": "code",
   "execution_count": null,
   "metadata": {},
   "outputs": [],
   "source": []
  }
 ],
 "metadata": {
  "kernelspec": {
   "display_name": "Python 3.10.7 64-bit",
   "language": "python",
   "name": "python3"
  },
  "language_info": {
   "codemirror_mode": {
    "name": "ipython",
    "version": 3
   },
   "file_extension": ".py",
   "mimetype": "text/x-python",
   "name": "python",
   "nbconvert_exporter": "python",
   "pygments_lexer": "ipython3",
   "version": "3.10.7"
  },
  "orig_nbformat": 4,
  "vscode": {
   "interpreter": {
    "hash": "31671a60cee805c34c73116577b485118ff3a75c458d3004d49632c19702ac60"
   }
  }
 },
 "nbformat": 4,
 "nbformat_minor": 2
}
