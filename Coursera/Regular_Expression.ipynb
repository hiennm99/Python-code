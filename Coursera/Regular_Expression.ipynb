{
 "cells": [
  {
   "cell_type": "code",
   "execution_count": 1,
   "metadata": {},
   "outputs": [],
   "source": [
    "import re"
   ]
  },
  {
   "cell_type": "code",
   "execution_count": 54,
   "metadata": {},
   "outputs": [],
   "source": [
    "s=\"I'm Nguyen Minh Hien, 23 years old. I've work at Merap Holdings for 1 year. My phone number is 0975764704\""
   ]
  },
  {
   "cell_type": "code",
   "execution_count": null,
   "metadata": {},
   "outputs": [],
   "source": [
    "print(re.findall('[a-zA-Z0-9]+',s))\n",
    "print(re.findall('[a-zA-Z0-9]*',s))"
   ]
  },
  {
   "cell_type": "code",
   "execution_count": 34,
   "metadata": {},
   "outputs": [
    {
     "name": "stdout",
     "output_type": "stream",
     "text": [
      "Email valid\n"
     ]
    }
   ],
   "source": [
    "emails=input()\n",
    "a='[a-zA-Z0-9]+@[a-z]+\\.(com|net|edu)'\n",
    "if re.findall(a,emails):\n",
    "    print('Email valid')\n",
    "else:\n",
    "    print('Email invalid')"
   ]
  },
  {
   "cell_type": "code",
   "execution_count": 20,
   "metadata": {},
   "outputs": [
    {
     "name": "stdout",
     "output_type": "stream",
     "text": [
      "374549\n"
     ]
    }
   ],
   "source": [
    "import re \n",
    "name='regex_sum_1676609.txt'\n",
    "handle=open(name)\n",
    "sum=0\n",
    "for line in handle:\n",
    "    line=line.rstrip()\n",
    "    a=re.findall('[0-9]+',line)\n",
    "    if a!=[]:\n",
    "        for index,value in enumerate(a):\n",
    "            sum+=int(value)\n",
    "\n",
    "print(sum)"
   ]
  }
 ],
 "metadata": {
  "kernelspec": {
   "display_name": "Python 3.10.7 64-bit",
   "language": "python",
   "name": "python3"
  },
  "language_info": {
   "codemirror_mode": {
    "name": "ipython",
    "version": 3
   },
   "file_extension": ".py",
   "mimetype": "text/x-python",
   "name": "python",
   "nbconvert_exporter": "python",
   "pygments_lexer": "ipython3",
   "version": "3.10.7"
  },
  "orig_nbformat": 4,
  "vscode": {
   "interpreter": {
    "hash": "31671a60cee805c34c73116577b485118ff3a75c458d3004d49632c19702ac60"
   }
  }
 },
 "nbformat": 4,
 "nbformat_minor": 2
}
