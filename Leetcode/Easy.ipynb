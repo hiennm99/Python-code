{
 "cells": [
  {
   "cell_type": "code",
   "execution_count": 56,
   "metadata": {},
   "outputs": [],
   "source": [
    "digits=[0,9]"
   ]
  },
  {
   "cell_type": "code",
   "execution_count": 58,
   "metadata": {},
   "outputs": [
    {
     "name": "stdout",
     "output_type": "stream",
     "text": [
      "[1, 0]\n"
     ]
    }
   ],
   "source": [
    "a=''\n",
    "for index,value in enumerate(digits):\n",
    "    a+=str(value)\n",
    "\n",
    "b=int(a)+1\n",
    "d=str(b)\n",
    "c=[]\n",
    "for i in range(len(d)):\n",
    "    c.append(int(d[i]))\n",
    "\n",
    "print(c)"
   ]
  },
  {
   "cell_type": "code",
   "execution_count": 215,
   "metadata": {},
   "outputs": [],
   "source": [
    "# Pascal's Triangle\n",
    "\n",
    "class Solution:\n",
    "    def generate(self, numRows: int):\n",
    "        result=[]\n",
    "        if numRows==1:\n",
    "            result.append([1])\n",
    "        elif numRows==2:\n",
    "            result.append([1])\n",
    "            result.append([1,1])\n",
    "        elif numRows>2:\n",
    "            a=[1,1]\n",
    "            result.append([1])\n",
    "            result.append([1,1])\n",
    "            for j in range(numRows-2):\n",
    "                b=[]\n",
    "                b.append(1)\n",
    "                for i in range(1,len(a)):\n",
    "                    b.append(a[i-1]+a[i])\n",
    "                \n",
    "                b.append(1)\n",
    "                a=b\n",
    "                result.append(a)\n",
    "        return result"
   ]
  },
  {
   "cell_type": "code",
   "execution_count": 299,
   "metadata": {},
   "outputs": [],
   "source": [
    "class Solution:\n",
    "    def maxProfit(self, prices: list[int]) -> int:\n",
    "        result=[]\n",
    "        result.append(0)\n",
    "        if len(prices)==1:\n",
    "            result.append(0)\n",
    "        elif len(prices)>2:\n",
    "            if prices[0] < prices[1]:\n",
    "                temp=[]\n",
    "                m=0\n",
    "                for i in range(0,len(prices)-1):\n",
    "                    key=prices[i]\n",
    "                    temp=prices[i+1::]\n",
    "                    m=max(temp)\n",
    "                    res=m-key\n",
    "                    result.append(res)\n",
    "            \n",
    "            elif prices[0] >= prices[1]:\n",
    "                temp=[]\n",
    "                m=0\n",
    "                for i in range(1,len(prices)-1):\n",
    "                    key=prices[i]\n",
    "                    temp=prices[i+1::]\n",
    "                    m=max(temp)\n",
    "                    res=m-key\n",
    "                    result.append(res)\n",
    "    \n",
    "        elif len(prices)==2:\n",
    "            if prices[1]>prices[0]:\n",
    "                result.append(prices[1]-prices[0])\n",
    "            else:\n",
    "                result.append(0)\n",
    "        return max(result)"
   ]
  },
  {
   "cell_type": "code",
   "execution_count": 304,
   "metadata": {},
   "outputs": [],
   "source": [
    "# majorityElement\n",
    "class Solution:\n",
    "    def majorityElement(self, nums: list[int]) -> int:\n",
    "        digits=set(nums)\n",
    "        digits2=tuple(digits)\n",
    "        print(digits)\n",
    "        for index,value in enumerate(nums):\n",
    "            if nums.count(value)> (len(nums)//2):\n",
    "                return value"
   ]
  },
  {
   "cell_type": "code",
   "execution_count": 339,
   "metadata": {},
   "outputs": [],
   "source": [
    "digits=[x for x in range(1,27)]\n",
    "chars=['','A','B','C','D','E','F','G','H','I','J','K','L','M','N','O','P','Q','R','S','T','U','V','W','X','Y','Z']"
   ]
  },
  {
   "cell_type": "code",
   "execution_count": 352,
   "metadata": {},
   "outputs": [],
   "source": [
    "#Excel Sheet Column Numbers\n",
    "class Solution:\n",
    "      def titleToNumber(self, columnTitle: str) -> int:\n",
    "        digits=[x for x in range(1,27)]\n",
    "        chars=['','A','B','C','D','E','F','G','H','I','J','K','L','M','N','O','P','Q','R','S','T','U','V','W','X','Y','Z']\n",
    "        sum=0\n",
    "        str2=columnTitle[::-1]\n",
    "        for i in range(len(str2)):\n",
    "            x=chars.index(str2[i])\n",
    "            so=digits[x-1]\n",
    "            sum+=so*(26**i)\n",
    "        return sum"
   ]
  },
  {
   "cell_type": "code",
   "execution_count": 435,
   "metadata": {},
   "outputs": [],
   "source": [
    "# ReverseBits\n",
    "class Solution:\n",
    "    def reverseBits(self, n: int) -> int:\n",
    "        binary_convert = lambda x, key: format(x, 'b').zfill(key)\n",
    "        binary=binary_convert(n,32)\n",
    "        print(binary)\n",
    "        binary_reverse=binary[::-1]\n",
    "        print(binary_reverse)\n",
    "        result=int(binary_reverse,2)\n",
    "        return result"
   ]
  },
  {
   "cell_type": "code",
   "execution_count": 440,
   "metadata": {},
   "outputs": [],
   "source": [
    "#Number of 1 Bits\n",
    "class Solution:\n",
    "    def hammingWeight(self, n: int) -> int:\n",
    "        binary_convert = lambda x, key: format(x, 'b').zfill(key)\n",
    "        binary=binary_convert(n,32)\n",
    "        lst=list(binary)\n",
    "        result=lst.count('1')\n",
    "        return result"
   ]
  },
  {
   "cell_type": "code",
   "execution_count": null,
   "metadata": {},
   "outputs": [],
   "source": [
    "# Happy Number\n",
    "class Solution:\n",
    "    def isHappy(self, n: int) -> bool:\n",
    "        "
   ]
  },
  {
   "cell_type": "code",
   "execution_count": 448,
   "metadata": {},
   "outputs": [
    {
     "ename": "TypeError",
     "evalue": "'int' object is not iterable",
     "output_type": "error",
     "traceback": [
      "\u001b[1;31m---------------------------------------------------------------------------\u001b[0m",
      "\u001b[1;31mTypeError\u001b[0m                                 Traceback (most recent call last)",
      "Cell \u001b[1;32mIn [448], line 8\u001b[0m\n\u001b[0;32m      5\u001b[0m nums\u001b[39m=\u001b[39mnhap\n\u001b[0;32m      6\u001b[0m \u001b[39mwhile\u001b[39;00m (k\u001b[39m<\u001b[39m\u001b[39m3\u001b[39m):\n\u001b[1;32m----> 8\u001b[0m     digits\u001b[39m=\u001b[39m\u001b[39mlist\u001b[39;49m(nums)\n\u001b[0;32m      9\u001b[0m     \u001b[39mfor\u001b[39;00m index,value \u001b[39min\u001b[39;00m \u001b[39menumerate\u001b[39m(digits):\n\u001b[0;32m     10\u001b[0m         \u001b[39msum\u001b[39m\u001b[39m+\u001b[39m\u001b[39m=\u001b[39m\u001b[39mint\u001b[39m(value)\u001b[39m*\u001b[39m\u001b[39m*\u001b[39m\u001b[39m2\u001b[39m\n",
      "\u001b[1;31mTypeError\u001b[0m: 'int' object is not iterable"
     ]
    }
   ],
   "source": [
    "nhap=input()\n",
    "sum=0\n",
    "k=0\n",
    "nums=nhap\n",
    "while (k<3):\n",
    "    \n",
    "    digits=list(nums)\n",
    "    for index,value in enumerate(digits):\n",
    "        sum+=int(value)**2\n",
    "    nums=sum\n",
    "    k+=1\n",
    "    "
   ]
  },
  {
   "cell_type": "code",
   "execution_count": 459,
   "metadata": {},
   "outputs": [
    {
     "name": "stdout",
     "output_type": "stream",
     "text": [
      "<class 'int'>\n",
      "<class 'int'>\n",
      "82\n",
      "<class 'int'>\n",
      "<class 'int'>\n",
      "82\n",
      "<class 'int'>\n",
      "<class 'int'>\n",
      "82\n",
      "\n"
     ]
    }
   ],
   "source": [
    "nums=input()\n",
    "digits=list(nums)\n",
    "k=0\n",
    "temp=nums\n",
    "while (k<3):\n",
    "   \n",
    "    digits=list(temp)\n",
    "    sum=0\n",
    "    for index,value in enumerate(digits):\n",
    "        sum+=int(value)**2\n",
    "        print(type(sum))\n",
    "    temp=str(sum)\n",
    "    print(sum)\n",
    "    k+=1\n",
    "\n",
    "print()\n",
    "    "
   ]
  }
 ],
 "metadata": {
  "kernelspec": {
   "display_name": "Python 3.10.7 64-bit",
   "language": "python",
   "name": "python3"
  },
  "language_info": {
   "codemirror_mode": {
    "name": "ipython",
    "version": 3
   },
   "file_extension": ".py",
   "mimetype": "text/x-python",
   "name": "python",
   "nbconvert_exporter": "python",
   "pygments_lexer": "ipython3",
   "version": "3.10.7"
  },
  "orig_nbformat": 4,
  "vscode": {
   "interpreter": {
    "hash": "31671a60cee805c34c73116577b485118ff3a75c458d3004d49632c19702ac60"
   }
  }
 },
 "nbformat": 4,
 "nbformat_minor": 2
}
