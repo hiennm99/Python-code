{
 "cells": [
  {
   "cell_type": "code",
   "execution_count": 74,
   "metadata": {},
   "outputs": [],
   "source": [
    "class A:\n",
    "    def __init__(self,para_ho,para_ten,para_tuoi):\n",
    "        stt=1\n",
    "        self.ho=para_ho\n",
    "        self.ten=para_ten\n",
    "        self.tuoi=para_tuoi\n",
    "\n",
    "    @classmethod\n",
    "    def update_stt(self,so):\n",
    "        self.stt=so\n",
    "\n",
    "    @property\n",
    "    def ho_ten(self):\n",
    "        return '{} {}'.format(self.ho,self.ten) \n",
    "\n",
    "    @ho_ten.setter\n",
    "    def ho_ten(self,ten_moi):\n",
    "        ho_moi,ten_moi=ten_moi.split(' ')\n",
    "        self.ho=ho_moi\n",
    "        self.ten=ten_moi\n",
    "\n",
    "    @ho_ten.deleter\n",
    "    def ho_ten(self):\n",
    "        self.ho=None\n",
    "        self.ten=None\n"
   ]
  },
  {
   "cell_type": "code",
   "execution_count": 53,
   "metadata": {},
   "outputs": [],
   "source": [
    "class B(A):\n",
    "    stt=1\n",
    "    def __init__(self,para_ho,para_ten,para_tuoi,para_dem):\n",
    "        super().__init__(para_ho,para_ten,para_tuoi)\n",
    "        self.dem=para_dem\n"
   ]
  },
  {
   "cell_type": "code",
   "execution_count": 75,
   "metadata": {},
   "outputs": [],
   "source": [
    "a=A('Nguyen','Hien',23)\n"
   ]
  },
  {
   "cell_type": "code",
   "execution_count": 76,
   "metadata": {},
   "outputs": [
    {
     "name": "stdout",
     "output_type": "stream",
     "text": [
      "Nguyen Hien\n"
     ]
    }
   ],
   "source": [
    "print(a.ho_ten)"
   ]
  },
  {
   "cell_type": "code",
   "execution_count": 77,
   "metadata": {},
   "outputs": [
    {
     "name": "stdout",
     "output_type": "stream",
     "text": [
      "Hien Minh\n"
     ]
    }
   ],
   "source": [
    "a.ho_ten='Hien Minh'\n",
    "print(a.ho_ten)"
   ]
  },
  {
   "cell_type": "code",
   "execution_count": 78,
   "metadata": {},
   "outputs": [],
   "source": [
    "del a.ho_ten"
   ]
  },
  {
   "cell_type": "code",
   "execution_count": 79,
   "metadata": {},
   "outputs": [
    {
     "name": "stdout",
     "output_type": "stream",
     "text": [
      "None None\n"
     ]
    }
   ],
   "source": [
    "print(a.ho_ten)"
   ]
  }
 ],
 "metadata": {
  "kernelspec": {
   "display_name": "Python 3.10.5 64-bit",
   "language": "python",
   "name": "python3"
  },
  "language_info": {
   "codemirror_mode": {
    "name": "ipython",
    "version": 3
   },
   "file_extension": ".py",
   "mimetype": "text/x-python",
   "name": "python",
   "nbconvert_exporter": "python",
   "pygments_lexer": "ipython3",
   "version": "3.10.5"
  },
  "orig_nbformat": 4,
  "vscode": {
   "interpreter": {
    "hash": "31671a60cee805c34c73116577b485118ff3a75c458d3004d49632c19702ac60"
   }
  }
 },
 "nbformat": 4,
 "nbformat_minor": 2
}
