{
 "cells": [
  {
   "cell_type": "code",
   "execution_count": null,
   "metadata": {},
   "outputs": [],
   "source": [
    "so=input()\n",
    "x=int(so)"
   ]
  },
  {
   "cell_type": "code",
   "execution_count": 21,
   "metadata": {},
   "outputs": [
    {
     "name": "stdout",
     "output_type": "stream",
     "text": [
      "2  co trong mang tai vi tri: 0\n"
     ]
    }
   ],
   "source": [
    "a=[1,2,3,4,5]\n",
    "n=2\n",
    "d=0\n",
    "k=0\n",
    "length=len(a)\n",
    "mid =length % 2\n",
    "if a[mid]==n:\n",
    "    d+=1\n",
    "elif n<a[mid]:\n",
    "    i=0\n",
    "    while i<mid:\n",
    "        if a[i]==n:\n",
    "            d+=1\n",
    "            k=i\n",
    "        i+=1\n",
    "elif n>a[mid]:\n",
    "    j=mid+1\n",
    "    while j<length:\n",
    "        if a[j]==n:\n",
    "            d+=1\n",
    "            k=j\n",
    "        j+=1\n",
    "if (d==1):\n",
    "    print(n,' co trong mang tai vi tri:',k)\n",
    "else :\n",
    "    print(n,' khong ton tai trong mang')"
   ]
  },
  {
   "cell_type": "code",
   "execution_count": null,
   "metadata": {},
   "outputs": [],
   "source": [
    "a=[1,2,3,4,5]\n",
    "binary_search(a,2)"
   ]
  }
 ],
 "metadata": {
  "kernelspec": {
   "display_name": "Python 3.10.5 64-bit",
   "language": "python",
   "name": "python3"
  },
  "language_info": {
   "codemirror_mode": {
    "name": "ipython",
    "version": 3
   },
   "file_extension": ".py",
   "mimetype": "text/x-python",
   "name": "python",
   "nbconvert_exporter": "python",
   "pygments_lexer": "ipython3",
   "version": "3.10.7"
  },
  "orig_nbformat": 4,
  "vscode": {
   "interpreter": {
    "hash": "31671a60cee805c34c73116577b485118ff3a75c458d3004d49632c19702ac60"
   }
  }
 },
 "nbformat": 4,
 "nbformat_minor": 2
}
